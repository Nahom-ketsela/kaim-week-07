{
 "cells": [
  {
   "cell_type": "markdown",
   "metadata": {
    "id": "9d-1xLm1_KBV"
   },
   "source": [
    "Installing the necessary libraries"
   ]
  },
  {
   "cell_type": "code",
   "execution_count": 1,
   "metadata": {
    "colab": {
     "base_uri": "https://localhost:8080/"
    },
    "id": "UF8LU3J57ZsD",
    "outputId": "34079dd6-5e1d-4e07-9ead-bb1e7907c332"
   },
   "outputs": [
    {
     "name": "stdout",
     "output_type": "stream",
     "text": [
      "Requirement already satisfied: opencv-python in /usr/local/lib/python3.11/dist-packages (4.10.0.84)\n",
      "Requirement already satisfied: numpy>=1.21.2 in /usr/local/lib/python3.11/dist-packages (from opencv-python) (1.26.4)\n"
     ]
    }
   ],
   "source": [
    "!pip install opencv-python\n"
   ]
  },
  {
   "cell_type": "code",
   "execution_count": 2,
   "metadata": {
    "colab": {
     "base_uri": "https://localhost:8080/"
    },
    "id": "CJxGi5wX_iZ6",
    "outputId": "78af3163-7a35-44f2-9c6d-cab652b4419b"
   },
   "outputs": [
    {
     "name": "stdout",
     "output_type": "stream",
     "text": [
      "Requirement already satisfied: torch in /usr/local/lib/python3.11/dist-packages (2.5.1+cu124)\n",
      "Requirement already satisfied: torchvision in /usr/local/lib/python3.11/dist-packages (0.20.1+cu124)\n",
      "Requirement already satisfied: filelock in /usr/local/lib/python3.11/dist-packages (from torch) (3.17.0)\n",
      "Requirement already satisfied: typing-extensions>=4.8.0 in /usr/local/lib/python3.11/dist-packages (from torch) (4.12.2)\n",
      "Requirement already satisfied: networkx in /usr/local/lib/python3.11/dist-packages (from torch) (3.4.2)\n",
      "Requirement already satisfied: jinja2 in /usr/local/lib/python3.11/dist-packages (from torch) (3.1.5)\n",
      "Requirement already satisfied: fsspec in /usr/local/lib/python3.11/dist-packages (from torch) (2024.10.0)\n",
      "Collecting nvidia-cuda-nvrtc-cu12==12.4.127 (from torch)\n",
      "  Downloading nvidia_cuda_nvrtc_cu12-12.4.127-py3-none-manylinux2014_x86_64.whl.metadata (1.5 kB)\n",
      "Collecting nvidia-cuda-runtime-cu12==12.4.127 (from torch)\n",
      "  Downloading nvidia_cuda_runtime_cu12-12.4.127-py3-none-manylinux2014_x86_64.whl.metadata (1.5 kB)\n",
      "Collecting nvidia-cuda-cupti-cu12==12.4.127 (from torch)\n",
      "  Downloading nvidia_cuda_cupti_cu12-12.4.127-py3-none-manylinux2014_x86_64.whl.metadata (1.6 kB)\n",
      "Collecting nvidia-cudnn-cu12==9.1.0.70 (from torch)\n",
      "  Downloading nvidia_cudnn_cu12-9.1.0.70-py3-none-manylinux2014_x86_64.whl.metadata (1.6 kB)\n",
      "Collecting nvidia-cublas-cu12==12.4.5.8 (from torch)\n",
      "  Downloading nvidia_cublas_cu12-12.4.5.8-py3-none-manylinux2014_x86_64.whl.metadata (1.5 kB)\n",
      "Collecting nvidia-cufft-cu12==11.2.1.3 (from torch)\n",
      "  Downloading nvidia_cufft_cu12-11.2.1.3-py3-none-manylinux2014_x86_64.whl.metadata (1.5 kB)\n",
      "Collecting nvidia-curand-cu12==10.3.5.147 (from torch)\n",
      "  Downloading nvidia_curand_cu12-10.3.5.147-py3-none-manylinux2014_x86_64.whl.metadata (1.5 kB)\n",
      "Collecting nvidia-cusolver-cu12==11.6.1.9 (from torch)\n",
      "  Downloading nvidia_cusolver_cu12-11.6.1.9-py3-none-manylinux2014_x86_64.whl.metadata (1.6 kB)\n",
      "Collecting nvidia-cusparse-cu12==12.3.1.170 (from torch)\n",
      "  Downloading nvidia_cusparse_cu12-12.3.1.170-py3-none-manylinux2014_x86_64.whl.metadata (1.6 kB)\n",
      "Requirement already satisfied: nvidia-nccl-cu12==2.21.5 in /usr/local/lib/python3.11/dist-packages (from torch) (2.21.5)\n",
      "Requirement already satisfied: nvidia-nvtx-cu12==12.4.127 in /usr/local/lib/python3.11/dist-packages (from torch) (12.4.127)\n",
      "Collecting nvidia-nvjitlink-cu12==12.4.127 (from torch)\n",
      "  Downloading nvidia_nvjitlink_cu12-12.4.127-py3-none-manylinux2014_x86_64.whl.metadata (1.5 kB)\n",
      "Requirement already satisfied: triton==3.1.0 in /usr/local/lib/python3.11/dist-packages (from torch) (3.1.0)\n",
      "Requirement already satisfied: sympy==1.13.1 in /usr/local/lib/python3.11/dist-packages (from torch) (1.13.1)\n",
      "Requirement already satisfied: mpmath<1.4,>=1.1.0 in /usr/local/lib/python3.11/dist-packages (from sympy==1.13.1->torch) (1.3.0)\n",
      "Requirement already satisfied: numpy in /usr/local/lib/python3.11/dist-packages (from torchvision) (1.26.4)\n",
      "Requirement already satisfied: pillow!=8.3.*,>=5.3.0 in /usr/local/lib/python3.11/dist-packages (from torchvision) (11.1.0)\n",
      "Requirement already satisfied: MarkupSafe>=2.0 in /usr/local/lib/python3.11/dist-packages (from jinja2->torch) (3.0.2)\n",
      "Downloading nvidia_cublas_cu12-12.4.5.8-py3-none-manylinux2014_x86_64.whl (363.4 MB)\n",
      "\u001b[2K   \u001b[90m━━━━━━━━━━━━━━━━━━━━━━━━━━━━━━━━━━━━━━━━\u001b[0m \u001b[32m363.4/363.4 MB\u001b[0m \u001b[31m4.1 MB/s\u001b[0m eta \u001b[36m0:00:00\u001b[0m\n",
      "\u001b[?25hDownloading nvidia_cuda_cupti_cu12-12.4.127-py3-none-manylinux2014_x86_64.whl (13.8 MB)\n",
      "\u001b[2K   \u001b[90m━━━━━━━━━━━━━━━━━━━━━━━━━━━━━━━━━━━━━━━━\u001b[0m \u001b[32m13.8/13.8 MB\u001b[0m \u001b[31m59.0 MB/s\u001b[0m eta \u001b[36m0:00:00\u001b[0m\n",
      "\u001b[?25hDownloading nvidia_cuda_nvrtc_cu12-12.4.127-py3-none-manylinux2014_x86_64.whl (24.6 MB)\n",
      "\u001b[2K   \u001b[90m━━━━━━━━━━━━━━━━━━━━━━━━━━━━━━━━━━━━━━━━\u001b[0m \u001b[32m24.6/24.6 MB\u001b[0m \u001b[31m51.6 MB/s\u001b[0m eta \u001b[36m0:00:00\u001b[0m\n",
      "\u001b[?25hDownloading nvidia_cuda_runtime_cu12-12.4.127-py3-none-manylinux2014_x86_64.whl (883 kB)\n",
      "\u001b[2K   \u001b[90m━━━━━━━━━━━━━━━━━━━━━━━━━━━━━━━━━━━━━━━━\u001b[0m \u001b[32m883.7/883.7 kB\u001b[0m \u001b[31m27.9 MB/s\u001b[0m eta \u001b[36m0:00:00\u001b[0m\n",
      "\u001b[?25hDownloading nvidia_cudnn_cu12-9.1.0.70-py3-none-manylinux2014_x86_64.whl (664.8 MB)\n",
      "\u001b[2K   \u001b[90m━━━━━━━━━━━━━━━━━━━━━━━━━━━━━━━━━━━━━━━━\u001b[0m \u001b[32m664.8/664.8 MB\u001b[0m \u001b[31m2.2 MB/s\u001b[0m eta \u001b[36m0:00:00\u001b[0m\n",
      "\u001b[?25hDownloading nvidia_cufft_cu12-11.2.1.3-py3-none-manylinux2014_x86_64.whl (211.5 MB)\n",
      "\u001b[2K   \u001b[90m━━━━━━━━━━━━━━━━━━━━━━━━━━━━━━━━━━━━━━━━\u001b[0m \u001b[32m211.5/211.5 MB\u001b[0m \u001b[31m6.5 MB/s\u001b[0m eta \u001b[36m0:00:00\u001b[0m\n",
      "\u001b[?25hDownloading nvidia_curand_cu12-10.3.5.147-py3-none-manylinux2014_x86_64.whl (56.3 MB)\n",
      "\u001b[2K   \u001b[90m━━━━━━━━━━━━━━━━━━━━━━━━━━━━━━━━━━━━━━━━\u001b[0m \u001b[32m56.3/56.3 MB\u001b[0m \u001b[31m9.5 MB/s\u001b[0m eta \u001b[36m0:00:00\u001b[0m\n",
      "\u001b[?25hDownloading nvidia_cusolver_cu12-11.6.1.9-py3-none-manylinux2014_x86_64.whl (127.9 MB)\n",
      "\u001b[2K   \u001b[90m━━━━━━━━━━━━━━━━━━━━━━━━━━━━━━━━━━━━━━━━\u001b[0m \u001b[32m127.9/127.9 MB\u001b[0m \u001b[31m7.3 MB/s\u001b[0m eta \u001b[36m0:00:00\u001b[0m\n",
      "\u001b[?25hDownloading nvidia_cusparse_cu12-12.3.1.170-py3-none-manylinux2014_x86_64.whl (207.5 MB)\n",
      "\u001b[2K   \u001b[90m━━━━━━━━━━━━━━━━━━━━━━━━━━━━━━━━━━━━━━━━\u001b[0m \u001b[32m207.5/207.5 MB\u001b[0m \u001b[31m6.1 MB/s\u001b[0m eta \u001b[36m0:00:00\u001b[0m\n",
      "\u001b[?25hDownloading nvidia_nvjitlink_cu12-12.4.127-py3-none-manylinux2014_x86_64.whl (21.1 MB)\n",
      "\u001b[2K   \u001b[90m━━━━━━━━━━━━━━━━━━━━━━━━━━━━━━━━━━━━━━━━\u001b[0m \u001b[32m21.1/21.1 MB\u001b[0m \u001b[31m78.2 MB/s\u001b[0m eta \u001b[36m0:00:00\u001b[0m\n",
      "\u001b[?25hInstalling collected packages: nvidia-nvjitlink-cu12, nvidia-curand-cu12, nvidia-cufft-cu12, nvidia-cuda-runtime-cu12, nvidia-cuda-nvrtc-cu12, nvidia-cuda-cupti-cu12, nvidia-cublas-cu12, nvidia-cusparse-cu12, nvidia-cudnn-cu12, nvidia-cusolver-cu12\n",
      "  Attempting uninstall: nvidia-nvjitlink-cu12\n",
      "    Found existing installation: nvidia-nvjitlink-cu12 12.5.82\n",
      "    Uninstalling nvidia-nvjitlink-cu12-12.5.82:\n",
      "      Successfully uninstalled nvidia-nvjitlink-cu12-12.5.82\n",
      "  Attempting uninstall: nvidia-curand-cu12\n",
      "    Found existing installation: nvidia-curand-cu12 10.3.6.82\n",
      "    Uninstalling nvidia-curand-cu12-10.3.6.82:\n",
      "      Successfully uninstalled nvidia-curand-cu12-10.3.6.82\n",
      "  Attempting uninstall: nvidia-cufft-cu12\n",
      "    Found existing installation: nvidia-cufft-cu12 11.2.3.61\n",
      "    Uninstalling nvidia-cufft-cu12-11.2.3.61:\n",
      "      Successfully uninstalled nvidia-cufft-cu12-11.2.3.61\n",
      "  Attempting uninstall: nvidia-cuda-runtime-cu12\n",
      "    Found existing installation: nvidia-cuda-runtime-cu12 12.5.82\n",
      "    Uninstalling nvidia-cuda-runtime-cu12-12.5.82:\n",
      "      Successfully uninstalled nvidia-cuda-runtime-cu12-12.5.82\n",
      "  Attempting uninstall: nvidia-cuda-nvrtc-cu12\n",
      "    Found existing installation: nvidia-cuda-nvrtc-cu12 12.5.82\n",
      "    Uninstalling nvidia-cuda-nvrtc-cu12-12.5.82:\n",
      "      Successfully uninstalled nvidia-cuda-nvrtc-cu12-12.5.82\n",
      "  Attempting uninstall: nvidia-cuda-cupti-cu12\n",
      "    Found existing installation: nvidia-cuda-cupti-cu12 12.5.82\n",
      "    Uninstalling nvidia-cuda-cupti-cu12-12.5.82:\n",
      "      Successfully uninstalled nvidia-cuda-cupti-cu12-12.5.82\n",
      "  Attempting uninstall: nvidia-cublas-cu12\n",
      "    Found existing installation: nvidia-cublas-cu12 12.5.3.2\n",
      "    Uninstalling nvidia-cublas-cu12-12.5.3.2:\n",
      "      Successfully uninstalled nvidia-cublas-cu12-12.5.3.2\n",
      "  Attempting uninstall: nvidia-cusparse-cu12\n",
      "    Found existing installation: nvidia-cusparse-cu12 12.5.1.3\n",
      "    Uninstalling nvidia-cusparse-cu12-12.5.1.3:\n",
      "      Successfully uninstalled nvidia-cusparse-cu12-12.5.1.3\n",
      "  Attempting uninstall: nvidia-cudnn-cu12\n",
      "    Found existing installation: nvidia-cudnn-cu12 9.3.0.75\n",
      "    Uninstalling nvidia-cudnn-cu12-9.3.0.75:\n",
      "      Successfully uninstalled nvidia-cudnn-cu12-9.3.0.75\n",
      "  Attempting uninstall: nvidia-cusolver-cu12\n",
      "    Found existing installation: nvidia-cusolver-cu12 11.6.3.83\n",
      "    Uninstalling nvidia-cusolver-cu12-11.6.3.83:\n",
      "      Successfully uninstalled nvidia-cusolver-cu12-11.6.3.83\n",
      "Successfully installed nvidia-cublas-cu12-12.4.5.8 nvidia-cuda-cupti-cu12-12.4.127 nvidia-cuda-nvrtc-cu12-12.4.127 nvidia-cuda-runtime-cu12-12.4.127 nvidia-cudnn-cu12-9.1.0.70 nvidia-cufft-cu12-11.2.1.3 nvidia-curand-cu12-10.3.5.147 nvidia-cusolver-cu12-11.6.1.9 nvidia-cusparse-cu12-12.3.1.170 nvidia-nvjitlink-cu12-12.4.127\n"
     ]
    }
   ],
   "source": [
    "!pip install torch torchvision\n"
   ]
  },
  {
   "cell_type": "code",
   "execution_count": 1,
   "metadata": {
    "colab": {
     "base_uri": "https://localhost:8080/"
    },
    "id": "PFV36Wv3AdW3",
    "outputId": "3d616886-c8ea-41c3-b7a3-e836f35c8686"
   },
   "outputs": [
    {
     "name": "stdout",
     "output_type": "stream",
     "text": [
      "Requirement already satisfied: tensorflow in /usr/local/lib/python3.11/dist-packages (2.18.0)\n",
      "Requirement already satisfied: absl-py>=1.0.0 in /usr/local/lib/python3.11/dist-packages (from tensorflow) (1.4.0)\n",
      "Requirement already satisfied: astunparse>=1.6.0 in /usr/local/lib/python3.11/dist-packages (from tensorflow) (1.6.3)\n",
      "Requirement already satisfied: flatbuffers>=24.3.25 in /usr/local/lib/python3.11/dist-packages (from tensorflow) (25.1.24)\n",
      "Requirement already satisfied: gast!=0.5.0,!=0.5.1,!=0.5.2,>=0.2.1 in /usr/local/lib/python3.11/dist-packages (from tensorflow) (0.6.0)\n",
      "Requirement already satisfied: google-pasta>=0.1.1 in /usr/local/lib/python3.11/dist-packages (from tensorflow) (0.2.0)\n",
      "Requirement already satisfied: libclang>=13.0.0 in /usr/local/lib/python3.11/dist-packages (from tensorflow) (18.1.1)\n",
      "Requirement already satisfied: opt-einsum>=2.3.2 in /usr/local/lib/python3.11/dist-packages (from tensorflow) (3.4.0)\n",
      "Requirement already satisfied: packaging in /usr/local/lib/python3.11/dist-packages (from tensorflow) (24.2)\n",
      "Requirement already satisfied: protobuf!=4.21.0,!=4.21.1,!=4.21.2,!=4.21.3,!=4.21.4,!=4.21.5,<6.0.0dev,>=3.20.3 in /usr/local/lib/python3.11/dist-packages (from tensorflow) (4.25.6)\n",
      "Requirement already satisfied: requests<3,>=2.21.0 in /usr/local/lib/python3.11/dist-packages (from tensorflow) (2.32.3)\n",
      "Requirement already satisfied: setuptools in /usr/local/lib/python3.11/dist-packages (from tensorflow) (75.1.0)\n",
      "Requirement already satisfied: six>=1.12.0 in /usr/local/lib/python3.11/dist-packages (from tensorflow) (1.17.0)\n",
      "Requirement already satisfied: termcolor>=1.1.0 in /usr/local/lib/python3.11/dist-packages (from tensorflow) (2.5.0)\n",
      "Requirement already satisfied: typing-extensions>=3.6.6 in /usr/local/lib/python3.11/dist-packages (from tensorflow) (4.12.2)\n",
      "Requirement already satisfied: wrapt>=1.11.0 in /usr/local/lib/python3.11/dist-packages (from tensorflow) (1.17.2)\n",
      "Requirement already satisfied: grpcio<2.0,>=1.24.3 in /usr/local/lib/python3.11/dist-packages (from tensorflow) (1.70.0)\n",
      "Requirement already satisfied: tensorboard<2.19,>=2.18 in /usr/local/lib/python3.11/dist-packages (from tensorflow) (2.18.0)\n",
      "Requirement already satisfied: keras>=3.5.0 in /usr/local/lib/python3.11/dist-packages (from tensorflow) (3.8.0)\n",
      "Requirement already satisfied: numpy<2.1.0,>=1.26.0 in /usr/local/lib/python3.11/dist-packages (from tensorflow) (1.26.4)\n",
      "Requirement already satisfied: h5py>=3.11.0 in /usr/local/lib/python3.11/dist-packages (from tensorflow) (3.12.1)\n",
      "Requirement already satisfied: ml-dtypes<0.5.0,>=0.4.0 in /usr/local/lib/python3.11/dist-packages (from tensorflow) (0.4.1)\n",
      "Requirement already satisfied: tensorflow-io-gcs-filesystem>=0.23.1 in /usr/local/lib/python3.11/dist-packages (from tensorflow) (0.37.1)\n",
      "Requirement already satisfied: wheel<1.0,>=0.23.0 in /usr/local/lib/python3.11/dist-packages (from astunparse>=1.6.0->tensorflow) (0.45.1)\n",
      "Requirement already satisfied: rich in /usr/local/lib/python3.11/dist-packages (from keras>=3.5.0->tensorflow) (13.9.4)\n",
      "Requirement already satisfied: namex in /usr/local/lib/python3.11/dist-packages (from keras>=3.5.0->tensorflow) (0.0.8)\n",
      "Requirement already satisfied: optree in /usr/local/lib/python3.11/dist-packages (from keras>=3.5.0->tensorflow) (0.14.0)\n",
      "Requirement already satisfied: charset-normalizer<4,>=2 in /usr/local/lib/python3.11/dist-packages (from requests<3,>=2.21.0->tensorflow) (3.4.1)\n",
      "Requirement already satisfied: idna<4,>=2.5 in /usr/local/lib/python3.11/dist-packages (from requests<3,>=2.21.0->tensorflow) (3.10)\n",
      "Requirement already satisfied: urllib3<3,>=1.21.1 in /usr/local/lib/python3.11/dist-packages (from requests<3,>=2.21.0->tensorflow) (2.3.0)\n",
      "Requirement already satisfied: certifi>=2017.4.17 in /usr/local/lib/python3.11/dist-packages (from requests<3,>=2.21.0->tensorflow) (2024.12.14)\n",
      "Requirement already satisfied: markdown>=2.6.8 in /usr/local/lib/python3.11/dist-packages (from tensorboard<2.19,>=2.18->tensorflow) (3.7)\n",
      "Requirement already satisfied: tensorboard-data-server<0.8.0,>=0.7.0 in /usr/local/lib/python3.11/dist-packages (from tensorboard<2.19,>=2.18->tensorflow) (0.7.2)\n",
      "Requirement already satisfied: werkzeug>=1.0.1 in /usr/local/lib/python3.11/dist-packages (from tensorboard<2.19,>=2.18->tensorflow) (3.1.3)\n",
      "Requirement already satisfied: MarkupSafe>=2.1.1 in /usr/local/lib/python3.11/dist-packages (from werkzeug>=1.0.1->tensorboard<2.19,>=2.18->tensorflow) (3.0.2)\n",
      "Requirement already satisfied: markdown-it-py>=2.2.0 in /usr/local/lib/python3.11/dist-packages (from rich->keras>=3.5.0->tensorflow) (3.0.0)\n",
      "Requirement already satisfied: pygments<3.0.0,>=2.13.0 in /usr/local/lib/python3.11/dist-packages (from rich->keras>=3.5.0->tensorflow) (2.18.0)\n",
      "Requirement already satisfied: mdurl~=0.1 in /usr/local/lib/python3.11/dist-packages (from markdown-it-py>=2.2.0->rich->keras>=3.5.0->tensorflow) (0.1.2)\n"
     ]
    }
   ],
   "source": [
    "!pip install tensorflow\n"
   ]
  },
  {
   "cell_type": "markdown",
   "metadata": {
    "id": "5UFGgCjd7zVl"
   },
   "source": [
    "# New Section"
   ]
  },
  {
   "cell_type": "code",
   "execution_count": 2,
   "metadata": {
    "colab": {
     "base_uri": "https://localhost:8080/"
    },
    "id": "LWdZYFf_CMZ6",
    "outputId": "f4436f0e-7943-4d6d-da7a-ada2ca063eed"
   },
   "outputs": [
    {
     "name": "stdout",
     "output_type": "stream",
     "text": [
      "Cloning into 'yolov5'...\n",
      "remote: Enumerating objects: 17270, done.\u001b[K\n",
      "remote: Counting objects: 100% (1/1), done.\u001b[K\n",
      "remote: Total 17270 (delta 0), reused 0 (delta 0), pack-reused 17269 (from 2)\u001b[K\n",
      "Receiving objects: 100% (17270/17270), 16.12 MiB | 19.81 MiB/s, done.\n",
      "Resolving deltas: 100% (11858/11858), done.\n"
     ]
    }
   ],
   "source": [
    "!git clone https://github.com/ultralytics/yolov5.git\n",
    "!cd yolov5\n"
   ]
  },
  {
   "cell_type": "code",
   "execution_count": 3,
   "metadata": {
    "colab": {
     "base_uri": "https://localhost:8080/"
    },
    "id": "o68ez9rQDtK2",
    "outputId": "53cd9418-3b62-44ae-cce8-7568b279a0f9"
   },
   "outputs": [
    {
     "name": "stdout",
     "output_type": "stream",
     "text": [
      "/content/yolov5\n",
      "/content/yolov5\n"
     ]
    }
   ],
   "source": [
    "#change the working directory into yolov5\n",
    "%cd yolov5\n",
    "!pwd\n"
   ]
  },
  {
   "cell_type": "code",
   "execution_count": 4,
   "metadata": {
    "colab": {
     "base_uri": "https://localhost:8080/"
    },
    "id": "pqTVe9jSC52f",
    "outputId": "1eb90d00-6840-4f17-d566-fdfbf8c0fe95"
   },
   "outputs": [
    {
     "name": "stdout",
     "output_type": "stream",
     "text": [
      "Requirement already satisfied: gitpython>=3.1.30 in /usr/local/lib/python3.11/dist-packages (from -r requirements.txt (line 5)) (3.1.44)\n",
      "Requirement already satisfied: matplotlib>=3.3 in /usr/local/lib/python3.11/dist-packages (from -r requirements.txt (line 6)) (3.10.0)\n",
      "Requirement already satisfied: numpy>=1.23.5 in /usr/local/lib/python3.11/dist-packages (from -r requirements.txt (line 7)) (1.26.4)\n",
      "Requirement already satisfied: opencv-python>=4.1.1 in /usr/local/lib/python3.11/dist-packages (from -r requirements.txt (line 8)) (4.10.0.84)\n",
      "Requirement already satisfied: pillow>=10.3.0 in /usr/local/lib/python3.11/dist-packages (from -r requirements.txt (line 9)) (11.1.0)\n",
      "Requirement already satisfied: psutil in /usr/local/lib/python3.11/dist-packages (from -r requirements.txt (line 10)) (5.9.5)\n",
      "Requirement already satisfied: PyYAML>=5.3.1 in /usr/local/lib/python3.11/dist-packages (from -r requirements.txt (line 11)) (6.0.2)\n",
      "Requirement already satisfied: requests>=2.32.2 in /usr/local/lib/python3.11/dist-packages (from -r requirements.txt (line 12)) (2.32.3)\n",
      "Requirement already satisfied: scipy>=1.4.1 in /usr/local/lib/python3.11/dist-packages (from -r requirements.txt (line 13)) (1.13.1)\n",
      "Collecting thop>=0.1.1 (from -r requirements.txt (line 14))\n",
      "  Downloading thop-0.1.1.post2209072238-py3-none-any.whl.metadata (2.7 kB)\n",
      "Requirement already satisfied: torch>=1.8.0 in /usr/local/lib/python3.11/dist-packages (from -r requirements.txt (line 15)) (2.5.1+cu124)\n",
      "Requirement already satisfied: torchvision>=0.9.0 in /usr/local/lib/python3.11/dist-packages (from -r requirements.txt (line 16)) (0.20.1+cu124)\n",
      "Requirement already satisfied: tqdm>=4.66.3 in /usr/local/lib/python3.11/dist-packages (from -r requirements.txt (line 17)) (4.67.1)\n",
      "Collecting ultralytics>=8.2.34 (from -r requirements.txt (line 18))\n",
      "  Downloading ultralytics-8.3.70-py3-none-any.whl.metadata (35 kB)\n",
      "Requirement already satisfied: pandas>=1.1.4 in /usr/local/lib/python3.11/dist-packages (from -r requirements.txt (line 27)) (2.2.2)\n",
      "Requirement already satisfied: seaborn>=0.11.0 in /usr/local/lib/python3.11/dist-packages (from -r requirements.txt (line 28)) (0.13.2)\n",
      "Requirement already satisfied: setuptools>=70.0.0 in /usr/local/lib/python3.11/dist-packages (from -r requirements.txt (line 42)) (75.1.0)\n",
      "Requirement already satisfied: gitdb<5,>=4.0.1 in /usr/local/lib/python3.11/dist-packages (from gitpython>=3.1.30->-r requirements.txt (line 5)) (4.0.12)\n",
      "Requirement already satisfied: contourpy>=1.0.1 in /usr/local/lib/python3.11/dist-packages (from matplotlib>=3.3->-r requirements.txt (line 6)) (1.3.1)\n",
      "Requirement already satisfied: cycler>=0.10 in /usr/local/lib/python3.11/dist-packages (from matplotlib>=3.3->-r requirements.txt (line 6)) (0.12.1)\n",
      "Requirement already satisfied: fonttools>=4.22.0 in /usr/local/lib/python3.11/dist-packages (from matplotlib>=3.3->-r requirements.txt (line 6)) (4.55.7)\n",
      "Requirement already satisfied: kiwisolver>=1.3.1 in /usr/local/lib/python3.11/dist-packages (from matplotlib>=3.3->-r requirements.txt (line 6)) (1.4.8)\n",
      "Requirement already satisfied: packaging>=20.0 in /usr/local/lib/python3.11/dist-packages (from matplotlib>=3.3->-r requirements.txt (line 6)) (24.2)\n",
      "Requirement already satisfied: pyparsing>=2.3.1 in /usr/local/lib/python3.11/dist-packages (from matplotlib>=3.3->-r requirements.txt (line 6)) (3.2.1)\n",
      "Requirement already satisfied: python-dateutil>=2.7 in /usr/local/lib/python3.11/dist-packages (from matplotlib>=3.3->-r requirements.txt (line 6)) (2.8.2)\n",
      "Requirement already satisfied: charset-normalizer<4,>=2 in /usr/local/lib/python3.11/dist-packages (from requests>=2.32.2->-r requirements.txt (line 12)) (3.4.1)\n",
      "Requirement already satisfied: idna<4,>=2.5 in /usr/local/lib/python3.11/dist-packages (from requests>=2.32.2->-r requirements.txt (line 12)) (3.10)\n",
      "Requirement already satisfied: urllib3<3,>=1.21.1 in /usr/local/lib/python3.11/dist-packages (from requests>=2.32.2->-r requirements.txt (line 12)) (2.3.0)\n",
      "Requirement already satisfied: certifi>=2017.4.17 in /usr/local/lib/python3.11/dist-packages (from requests>=2.32.2->-r requirements.txt (line 12)) (2024.12.14)\n",
      "Requirement already satisfied: filelock in /usr/local/lib/python3.11/dist-packages (from torch>=1.8.0->-r requirements.txt (line 15)) (3.17.0)\n",
      "Requirement already satisfied: typing-extensions>=4.8.0 in /usr/local/lib/python3.11/dist-packages (from torch>=1.8.0->-r requirements.txt (line 15)) (4.12.2)\n",
      "Requirement already satisfied: networkx in /usr/local/lib/python3.11/dist-packages (from torch>=1.8.0->-r requirements.txt (line 15)) (3.4.2)\n",
      "Requirement already satisfied: jinja2 in /usr/local/lib/python3.11/dist-packages (from torch>=1.8.0->-r requirements.txt (line 15)) (3.1.5)\n",
      "Requirement already satisfied: fsspec in /usr/local/lib/python3.11/dist-packages (from torch>=1.8.0->-r requirements.txt (line 15)) (2024.10.0)\n",
      "Requirement already satisfied: nvidia-cuda-nvrtc-cu12==12.4.127 in /usr/local/lib/python3.11/dist-packages (from torch>=1.8.0->-r requirements.txt (line 15)) (12.4.127)\n",
      "Requirement already satisfied: nvidia-cuda-runtime-cu12==12.4.127 in /usr/local/lib/python3.11/dist-packages (from torch>=1.8.0->-r requirements.txt (line 15)) (12.4.127)\n",
      "Requirement already satisfied: nvidia-cuda-cupti-cu12==12.4.127 in /usr/local/lib/python3.11/dist-packages (from torch>=1.8.0->-r requirements.txt (line 15)) (12.4.127)\n",
      "Requirement already satisfied: nvidia-cudnn-cu12==9.1.0.70 in /usr/local/lib/python3.11/dist-packages (from torch>=1.8.0->-r requirements.txt (line 15)) (9.1.0.70)\n",
      "Requirement already satisfied: nvidia-cublas-cu12==12.4.5.8 in /usr/local/lib/python3.11/dist-packages (from torch>=1.8.0->-r requirements.txt (line 15)) (12.4.5.8)\n",
      "Requirement already satisfied: nvidia-cufft-cu12==11.2.1.3 in /usr/local/lib/python3.11/dist-packages (from torch>=1.8.0->-r requirements.txt (line 15)) (11.2.1.3)\n",
      "Requirement already satisfied: nvidia-curand-cu12==10.3.5.147 in /usr/local/lib/python3.11/dist-packages (from torch>=1.8.0->-r requirements.txt (line 15)) (10.3.5.147)\n",
      "Requirement already satisfied: nvidia-cusolver-cu12==11.6.1.9 in /usr/local/lib/python3.11/dist-packages (from torch>=1.8.0->-r requirements.txt (line 15)) (11.6.1.9)\n",
      "Requirement already satisfied: nvidia-cusparse-cu12==12.3.1.170 in /usr/local/lib/python3.11/dist-packages (from torch>=1.8.0->-r requirements.txt (line 15)) (12.3.1.170)\n",
      "Requirement already satisfied: nvidia-nccl-cu12==2.21.5 in /usr/local/lib/python3.11/dist-packages (from torch>=1.8.0->-r requirements.txt (line 15)) (2.21.5)\n",
      "Requirement already satisfied: nvidia-nvtx-cu12==12.4.127 in /usr/local/lib/python3.11/dist-packages (from torch>=1.8.0->-r requirements.txt (line 15)) (12.4.127)\n",
      "Requirement already satisfied: nvidia-nvjitlink-cu12==12.4.127 in /usr/local/lib/python3.11/dist-packages (from torch>=1.8.0->-r requirements.txt (line 15)) (12.4.127)\n",
      "Requirement already satisfied: triton==3.1.0 in /usr/local/lib/python3.11/dist-packages (from torch>=1.8.0->-r requirements.txt (line 15)) (3.1.0)\n",
      "Requirement already satisfied: sympy==1.13.1 in /usr/local/lib/python3.11/dist-packages (from torch>=1.8.0->-r requirements.txt (line 15)) (1.13.1)\n",
      "Requirement already satisfied: mpmath<1.4,>=1.1.0 in /usr/local/lib/python3.11/dist-packages (from sympy==1.13.1->torch>=1.8.0->-r requirements.txt (line 15)) (1.3.0)\n",
      "Requirement already satisfied: py-cpuinfo in /usr/local/lib/python3.11/dist-packages (from ultralytics>=8.2.34->-r requirements.txt (line 18)) (9.0.0)\n",
      "Collecting ultralytics-thop>=2.0.0 (from ultralytics>=8.2.34->-r requirements.txt (line 18))\n",
      "  Downloading ultralytics_thop-2.0.14-py3-none-any.whl.metadata (9.4 kB)\n",
      "Requirement already satisfied: pytz>=2020.1 in /usr/local/lib/python3.11/dist-packages (from pandas>=1.1.4->-r requirements.txt (line 27)) (2024.2)\n",
      "Requirement already satisfied: tzdata>=2022.7 in /usr/local/lib/python3.11/dist-packages (from pandas>=1.1.4->-r requirements.txt (line 27)) (2025.1)\n",
      "Requirement already satisfied: smmap<6,>=3.0.1 in /usr/local/lib/python3.11/dist-packages (from gitdb<5,>=4.0.1->gitpython>=3.1.30->-r requirements.txt (line 5)) (5.0.2)\n",
      "Requirement already satisfied: six>=1.5 in /usr/local/lib/python3.11/dist-packages (from python-dateutil>=2.7->matplotlib>=3.3->-r requirements.txt (line 6)) (1.17.0)\n",
      "Requirement already satisfied: MarkupSafe>=2.0 in /usr/local/lib/python3.11/dist-packages (from jinja2->torch>=1.8.0->-r requirements.txt (line 15)) (3.0.2)\n",
      "Downloading thop-0.1.1.post2209072238-py3-none-any.whl (15 kB)\n",
      "Downloading ultralytics-8.3.70-py3-none-any.whl (914 kB)\n",
      "\u001b[2K   \u001b[90m━━━━━━━━━━━━━━━━━━━━━━━━━━━━━━━━━━━━━━━━\u001b[0m \u001b[32m914.9/914.9 kB\u001b[0m \u001b[31m13.8 MB/s\u001b[0m eta \u001b[36m0:00:00\u001b[0m\n",
      "\u001b[?25hDownloading ultralytics_thop-2.0.14-py3-none-any.whl (26 kB)\n",
      "Installing collected packages: ultralytics-thop, thop, ultralytics\n",
      "Successfully installed thop-0.1.1.post2209072238 ultralytics-8.3.70 ultralytics-thop-2.0.14\n"
     ]
    }
   ],
   "source": [
    "!pip install -r requirements.txt\n"
   ]
  },
  {
   "cell_type": "code",
   "execution_count": 29,
   "metadata": {
    "colab": {
     "base_uri": "https://localhost:8080/"
    },
    "id": "YO5rB3FvFd2-",
    "outputId": "5cd25e8a-36fa-488a-abbf-86c0ef3e6397"
   },
   "outputs": [
    {
     "name": "stdout",
     "output_type": "stream",
     "text": [
      "\u001b[34m\u001b[1mdetect: \u001b[0mweights=['yolov5s.pt'], source=data/images/bus.jpg, data=data/coco128.yaml, imgsz=[640, 640], conf_thres=0.25, iou_thres=0.45, max_det=1000, device=, view_img=False, save_txt=False, save_format=0, save_csv=False, save_conf=False, save_crop=False, nosave=False, classes=None, agnostic_nms=False, augment=False, visualize=False, update=False, project=runs/detect, name=exp, exist_ok=False, line_thickness=3, hide_labels=False, hide_conf=False, half=False, dnn=False, vid_stride=1\n",
      "YOLOv5 🚀 v7.0-398-g5cdad892 Python-3.11.11 torch-2.5.1+cu124 CPU\n",
      "\n",
      "Fusing layers... \n",
      "YOLOv5s summary: 213 layers, 7225885 parameters, 0 gradients, 16.4 GFLOPs\n",
      "image 1/1 /content/yolov5/data/images/bus.jpg: 640x480 4 persons, 1 bus, 354.6ms\n",
      "Speed: 7.6ms pre-process, 354.6ms inference, 4.3ms NMS per image at shape (1, 3, 640, 640)\n",
      "Results saved to \u001b[1mruns/detect/exp4\u001b[0m\n"
     ]
    }
   ],
   "source": [
    "#check detection with sample data\n",
    "!python detect.py --source data/images/bus.jpg --weights yolov5s.pt\n"
   ]
  },
  {
   "cell_type": "code",
   "execution_count": 7,
   "metadata": {
    "colab": {
     "base_uri": "https://localhost:8080/"
    },
    "id": "1SJeYB29GNAw",
    "outputId": "980ba8ed-b755-45c5-bb4a-8611b175d358"
   },
   "outputs": [
    {
     "name": "stdout",
     "output_type": "stream",
     "text": [
      "\u001b[34m\u001b[1mdetect: \u001b[0mweights=['yolov5s.pt'], source=../Images, data=data/coco128.yaml, imgsz=[640, 640], conf_thres=0.25, iou_thres=0.45, max_det=1000, device=, view_img=False, save_txt=True, save_format=0, save_csv=False, save_conf=True, save_crop=False, nosave=False, classes=None, agnostic_nms=False, augment=False, visualize=False, update=False, project=runs/detect, name=exp, exist_ok=False, line_thickness=3, hide_labels=False, hide_conf=False, half=False, dnn=False, vid_stride=1\n",
      "YOLOv5 🚀 v7.0-398-g5cdad892 Python-3.11.11 torch-2.5.1+cu124 CPU\n",
      "\n",
      "Fusing layers... \n",
      "YOLOv5s summary: 213 layers, 7225885 parameters, 0 gradients, 16.4 GFLOPs\n",
      "image 1/167 /content/Images/CheMed123_10.jpg: 640x640 (no detections), 464.1ms\n",
      "image 2/167 /content/Images/CheMed123_11.jpg: 640x640 (no detections), 396.8ms\n",
      "image 3/167 /content/Images/CheMed123_13.jpg: 640x640 5 sports balls, 2 cups, 1 carrot, 466.5ms\n",
      "image 4/167 /content/Images/CheMed123_14.jpg: 640x480 (no detections), 306.2ms\n",
      "image 5/167 /content/Images/CheMed123_15.jpg: 640x640 (no detections), 390.8ms\n",
      "image 6/167 /content/Images/CheMed123_17.jpg: 640x480 9 bottles, 1 refrigerator, 304.1ms\n",
      "image 7/167 /content/Images/CheMed123_18.jpg: 544x640 (no detections), 355.3ms\n",
      "image 8/167 /content/Images/CheMed123_19.jpg: 480x640 3 persons, 1 chair, 1 book, 301.0ms\n",
      "image 9/167 /content/Images/CheMed123_2.jpg: 544x640 11 sports balls, 339.5ms\n",
      "image 10/167 /content/Images/CheMed123_20.jpg: 480x640 3 persons, 1 chair, 1 book, 303.3ms\n",
      "image 11/167 /content/Images/CheMed123_21.jpg: 640x640 (no detections), 410.1ms\n",
      "image 12/167 /content/Images/CheMed123_22.jpg: 544x640 2 cell phones, 338.7ms\n",
      "image 13/167 /content/Images/CheMed123_23.jpg: 544x640 (no detections), 341.7ms\n",
      "image 14/167 /content/Images/CheMed123_25.jpg: 544x640 1 person, 1 cell phone, 368.3ms\n",
      "image 15/167 /content/Images/CheMed123_26.jpg: 544x640 1 cup, 480.3ms\n",
      "image 16/167 /content/Images/CheMed123_27.jpg: 544x640 (no detections), 575.0ms\n",
      "image 17/167 /content/Images/CheMed123_29.jpg: 640x480 1 person, 1 motorcycle, 1 frisbee, 300.3ms\n",
      "image 18/167 /content/Images/CheMed123_3.jpg: 640x640 (no detections), 416.4ms\n",
      "image 19/167 /content/Images/CheMed123_30.jpg: 544x640 1 person, 1 clock, 345.3ms\n",
      "image 20/167 /content/Images/CheMed123_31.jpg: 640x480 9 bottles, 1 refrigerator, 302.4ms\n",
      "image 21/167 /content/Images/CheMed123_32.jpg: 544x640 (no detections), 353.0ms\n",
      "image 22/167 /content/Images/CheMed123_33.jpg: 544x640 3 oranges, 463.5ms\n",
      "image 23/167 /content/Images/CheMed123_34.jpg: 544x640 (no detections), 527.6ms\n",
      "image 24/167 /content/Images/CheMed123_38.jpg: 544x640 2 baseball bats, 516.7ms\n",
      "image 25/167 /content/Images/CheMed123_39.jpg: 320x640 8 mouses, 310.6ms\n",
      "image 26/167 /content/Images/CheMed123_40.jpg: 352x640 7 persons, 336.8ms\n",
      "image 27/167 /content/Images/CheMed123_41.jpg: 640x640 1 person, 1 remote, 662.4ms\n",
      "image 28/167 /content/Images/CheMed123_43.jpg: 640x640 1 person, 1 keyboard, 1 cell phone, 665.4ms\n",
      "image 29/167 /content/Images/CheMed123_44.jpg: 384x640 1 person, 1 cell phone, 377.8ms\n",
      "image 30/167 /content/Images/CheMed123_45.jpg: 640x640 1 toothbrush, 405.8ms\n",
      "image 31/167 /content/Images/CheMed123_46.jpg: 640x640 2 persons, 408.0ms\n",
      "image 32/167 /content/Images/CheMed123_48.jpg: 640x640 1 clock, 430.8ms\n",
      "image 33/167 /content/Images/CheMed123_49.jpg: 640x640 1 frisbee, 1 kite, 416.6ms\n",
      "image 34/167 /content/Images/CheMed123_50.jpg: 640x640 (no detections), 448.0ms\n",
      "image 35/167 /content/Images/CheMed123_52.jpg: 640x640 3 persons, 1 horse, 409.9ms\n",
      "image 36/167 /content/Images/CheMed123_53.jpg: 544x640 (no detections), 352.6ms\n",
      "image 37/167 /content/Images/CheMed123_55.jpg: 640x640 1 stop sign, 411.9ms\n",
      "image 38/167 /content/Images/CheMed123_56.jpg: 640x640 1 person, 420.2ms\n",
      "image 39/167 /content/Images/CheMed123_58.jpg: 544x640 12 sports balls, 367.4ms\n",
      "image 40/167 /content/Images/CheMed123_59.jpg: 640x640 1 bottle, 397.5ms\n",
      "image 41/167 /content/Images/CheMed123_60.jpg: 640x640 (no detections), 421.1ms\n",
      "image 42/167 /content/Images/CheMed123_64.jpg: 640x640 1 person, 1 clock, 415.8ms\n",
      "image 43/167 /content/Images/CheMed123_67.jpg: 640x640 1 stop sign, 412.0ms\n",
      "image 44/167 /content/Images/CheMed123_70.jpg: 640x384 1 person, 2 potted plants, 1 tv, 267.3ms\n",
      "image 45/167 /content/Images/CheMed123_71.jpg: 640x288 2 persons, 1 sports ball, 210.8ms\n",
      "image 46/167 /content/Images/CheMed123_74.jpg: 640x640 (no detections), 430.8ms\n",
      "image 47/167 /content/Images/CheMed123_75.jpg: 640x640 1 person, 464.6ms\n",
      "image 48/167 /content/Images/CheMed123_76.jpg: 640x352 1 person, 1 mouse, 234.2ms\n",
      "image 49/167 /content/Images/CheMed123_77.jpg: 640x640 5 bottles, 434.8ms\n",
      "image 50/167 /content/Images/CheMed123_78.jpg: 640x480 2 persons, 1 banana, 349.9ms\n",
      "image 51/167 /content/Images/CheMed123_79.jpg: 640x640 (no detections), 410.1ms\n",
      "image 52/167 /content/Images/CheMed123_80.jpg: 640x480 1 person, 1 bottle, 1 chair, 321.0ms\n",
      "image 53/167 /content/Images/CheMed123_81.jpg: 640x640 5 bottles, 460.8ms\n",
      "image 54/167 /content/Images/CheMed123_82.jpg: 640x640 3 bottles, 1 mouse, 623.6ms\n",
      "image 55/167 /content/Images/CheMed123_85.jpg: 640x640 (no detections), 717.1ms\n",
      "image 56/167 /content/Images/CheMed123_86.jpg: 640x640 1 person, 2 frisbees, 640.2ms\n",
      "image 57/167 /content/Images/CheMed123_87.jpg: 640x640 (no detections), 621.4ms\n",
      "image 58/167 /content/Images/CheMed123_88.jpg: 640x640 (no detections), 723.0ms\n",
      "image 59/167 /content/Images/CheMed123_9.jpg: 544x640 11 sports balls, 493.4ms\n",
      "image 60/167 /content/Images/CheMed123_90.jpg: 640x640 (no detections), 427.1ms\n",
      "image 61/167 /content/Images/CheMed123_91.jpg: 640x640 (no detections), 397.4ms\n",
      "image 62/167 /content/Images/CheMed123_92.jpg: 640x640 1 person, 408.7ms\n",
      "image 63/167 /content/Images/CheMed123_93.jpg: 640x640 1 person, 423.1ms\n",
      "image 64/167 /content/Images/CheMed123_94.jpg: 640x640 1 person, 1 cup, 1 sandwich, 2 vases, 393.8ms\n",
      "image 65/167 /content/Images/CheMed123_95.jpg: 640x640 1 person, 1 sports ball, 410.0ms\n",
      "image 66/167 /content/Images/CheMed123_96.jpg: 640x640 2 sports balls, 391.8ms\n",
      "image 67/167 /content/Images/CheMed123_97.jpg: 640x640 (no detections), 412.3ms\n",
      "image 68/167 /content/Images/lobelia4cosmetics_15101.jpg: 640x640 1 vase, 391.7ms\n",
      "image 69/167 /content/Images/lobelia4cosmetics_15102.jpg: 640x640 (no detections), 402.9ms\n",
      "image 70/167 /content/Images/lobelia4cosmetics_15103.jpg: 640x640 1 person, 412.1ms\n",
      "image 71/167 /content/Images/lobelia4cosmetics_15104.jpg: 640x640 (no detections), 386.3ms\n",
      "image 72/167 /content/Images/lobelia4cosmetics_15105.jpg: 640x448 (no detections), 296.1ms\n",
      "image 73/167 /content/Images/lobelia4cosmetics_15106.jpg: 640x640 (no detections), 401.5ms\n",
      "image 74/167 /content/Images/lobelia4cosmetics_15107.jpg: 640x640 1 bottle, 398.2ms\n",
      "image 75/167 /content/Images/lobelia4cosmetics_15108.jpg: 640x640 1 bottle, 412.5ms\n",
      "image 76/167 /content/Images/lobelia4cosmetics_15109.jpg: 640x640 1 person, 1 book, 388.7ms\n",
      "image 77/167 /content/Images/lobelia4cosmetics_15110.jpg: 480x640 (no detections), 300.5ms\n",
      "image 78/167 /content/Images/lobelia4cosmetics_15111.jpg: 640x640 (no detections), 396.1ms\n",
      "image 79/167 /content/Images/lobelia4cosmetics_15112.jpg: 640x640 (no detections), 402.6ms\n",
      "image 80/167 /content/Images/lobelia4cosmetics_15113.jpg: 640x640 (no detections), 413.2ms\n",
      "image 81/167 /content/Images/lobelia4cosmetics_15114.jpg: 640x640 1 bottle, 1 vase, 404.8ms\n",
      "image 82/167 /content/Images/lobelia4cosmetics_15115.jpg: 640x544 (no detections), 342.2ms\n",
      "image 83/167 /content/Images/lobelia4cosmetics_15116.jpg: 640x640 1 suitcase, 4 bottles, 2 toilets, 510.9ms\n",
      "image 84/167 /content/Images/lobelia4cosmetics_15117.jpg: 640x640 (no detections), 640.1ms\n",
      "image 85/167 /content/Images/lobelia4cosmetics_15118.jpg: 640x640 (no detections), 628.3ms\n",
      "image 86/167 /content/Images/lobelia4cosmetics_15119.jpg: 640x640 1 bottle, 623.7ms\n",
      "image 87/167 /content/Images/lobelia4cosmetics_15120.jpg: 640x640 (no detections), 666.1ms\n",
      "image 88/167 /content/Images/lobelia4cosmetics_15121.jpg: 640x640 5 apples, 6 oranges, 610.2ms\n",
      "image 89/167 /content/Images/lobelia4cosmetics_15122.jpg: 640x640 (no detections), 384.4ms\n",
      "image 90/167 /content/Images/lobelia4cosmetics_15123.jpg: 640x640 (no detections), 383.4ms\n",
      "image 91/167 /content/Images/lobelia4cosmetics_15124.jpg: 640x640 2 apples, 2 oranges, 385.8ms\n",
      "image 92/167 /content/Images/lobelia4cosmetics_15125.jpg: 640x640 (no detections), 409.5ms\n",
      "image 93/167 /content/Images/lobelia4cosmetics_15126.jpg: 640x640 1 bottle, 399.2ms\n",
      "image 94/167 /content/Images/lobelia4cosmetics_15127.jpg: 640x640 (no detections), 412.1ms\n",
      "image 95/167 /content/Images/lobelia4cosmetics_15128.jpg: 640x640 (no detections), 398.6ms\n",
      "image 96/167 /content/Images/lobelia4cosmetics_15129.jpg: 640x640 (no detections), 418.8ms\n",
      "image 97/167 /content/Images/lobelia4cosmetics_15130.jpg: 640x640 (no detections), 423.0ms\n",
      "image 98/167 /content/Images/lobelia4cosmetics_15131.jpg: 512x640 (no detections), 325.1ms\n",
      "image 99/167 /content/Images/lobelia4cosmetics_15132.jpg: 640x640 1 person, 377.9ms\n",
      "image 100/167 /content/Images/lobelia4cosmetics_15133.jpg: 640x640 (no detections), 403.4ms\n",
      "image 101/167 /content/Images/lobelia4cosmetics_15134.jpg: 640x640 (no detections), 420.7ms\n",
      "image 102/167 /content/Images/lobelia4cosmetics_15135.jpg: 640x640 (no detections), 413.5ms\n",
      "image 103/167 /content/Images/lobelia4cosmetics_15136.jpg: 640x640 (no detections), 405.6ms\n",
      "image 104/167 /content/Images/lobelia4cosmetics_15137.jpg: 512x640 1 frisbee, 313.8ms\n",
      "image 105/167 /content/Images/lobelia4cosmetics_15138.jpg: 640x640 1 sports ball, 401.6ms\n",
      "image 106/167 /content/Images/lobelia4cosmetics_15139.jpg: 640x448 (no detections), 272.8ms\n",
      "image 107/167 /content/Images/lobelia4cosmetics_15140.jpg: 640x640 1 remote, 1 cell phone, 384.0ms\n",
      "image 108/167 /content/Images/lobelia4cosmetics_15141.jpg: 640x640 1 remote, 1 cell phone, 400.5ms\n",
      "image 109/167 /content/Images/lobelia4cosmetics_15142.jpg: 640x640 (no detections), 388.0ms\n",
      "image 110/167 /content/Images/lobelia4cosmetics_15143.jpg: 640x640 (no detections), 386.7ms\n",
      "image 111/167 /content/Images/lobelia4cosmetics_15144.jpg: 640x448 (no detections), 268.7ms\n",
      "image 112/167 /content/Images/lobelia4cosmetics_15145.jpg: 544x640 (no detections), 313.1ms\n",
      "image 113/167 /content/Images/lobelia4cosmetics_15146.jpg: 640x512 2 bottles, 415.2ms\n",
      "image 114/167 /content/Images/lobelia4cosmetics_15147.jpg: 640x640 (no detections), 623.6ms\n",
      "image 115/167 /content/Images/lobelia4cosmetics_15148.jpg: 640x640 (no detections), 613.1ms\n",
      "image 116/167 /content/Images/lobelia4cosmetics_15149.jpg: 640x480 1 bottle, 466.2ms\n",
      "image 117/167 /content/Images/lobelia4cosmetics_15150.jpg: 640x640 2 bottles, 620.9ms\n",
      "image 118/167 /content/Images/lobelia4cosmetics_15151.jpg: 640x640 1 bottle, 626.3ms\n",
      "image 119/167 /content/Images/lobelia4cosmetics_15152.jpg: 640x640 2 bottles, 594.7ms\n",
      "image 120/167 /content/Images/lobelia4cosmetics_15153.jpg: 640x640 1 bottle, 384.5ms\n",
      "image 121/167 /content/Images/lobelia4cosmetics_15154.jpg: 640x640 (no detections), 417.5ms\n",
      "image 122/167 /content/Images/lobelia4cosmetics_15155.jpg: 640x640 1 book, 398.6ms\n",
      "image 123/167 /content/Images/lobelia4cosmetics_15156.jpg: 640x640 1 fork, 2 donuts, 1 clock, 406.9ms\n",
      "image 124/167 /content/Images/lobelia4cosmetics_15157.jpg: 640x640 1 banana, 1 donut, 379.2ms\n",
      "image 125/167 /content/Images/lobelia4cosmetics_15158.jpg: 640x640 (no detections), 383.7ms\n",
      "image 126/167 /content/Images/lobelia4cosmetics_15159.jpg: 640x640 (no detections), 424.0ms\n",
      "image 127/167 /content/Images/lobelia4cosmetics_15160.jpg: 640x640 (no detections), 381.0ms\n",
      "image 128/167 /content/Images/lobelia4cosmetics_15161.jpg: 480x640 (no detections), 287.9ms\n",
      "image 129/167 /content/Images/lobelia4cosmetics_15162.jpg: 640x640 (no detections), 372.7ms\n",
      "image 130/167 /content/Images/lobelia4cosmetics_15163.jpg: 640x640 (no detections), 414.7ms\n",
      "image 131/167 /content/Images/lobelia4cosmetics_15164.jpg: 640x640 (no detections), 403.4ms\n",
      "image 132/167 /content/Images/lobelia4cosmetics_15165.jpg: 640x640 7 persons, 1 bottle, 370.4ms\n",
      "image 133/167 /content/Images/lobelia4cosmetics_15166.jpg: 640x640 (no detections), 384.8ms\n",
      "image 134/167 /content/Images/lobelia4cosmetics_15167.jpg: 640x640 1 bottle, 393.9ms\n",
      "image 135/167 /content/Images/lobelia4cosmetics_15168.jpg: 640x640 1 person, 414.9ms\n",
      "image 136/167 /content/Images/lobelia4cosmetics_15169.jpg: 640x640 (no detections), 392.2ms\n",
      "image 137/167 /content/Images/lobelia4cosmetics_15170.jpg: 640x448 (no detections), 272.9ms\n",
      "image 138/167 /content/Images/lobelia4cosmetics_15171.jpg: 640x640 1 bottle, 378.3ms\n",
      "image 139/167 /content/Images/lobelia4cosmetics_15172.jpg: 640x640 (no detections), 417.5ms\n",
      "image 140/167 /content/Images/lobelia4cosmetics_15173.jpg: 640x640 (no detections), 397.4ms\n",
      "image 141/167 /content/Images/lobelia4cosmetics_15174.jpg: 640x480 (no detections), 305.2ms\n",
      "image 142/167 /content/Images/lobelia4cosmetics_15175.jpg: 640x640 (no detections), 404.9ms\n",
      "image 143/167 /content/Images/lobelia4cosmetics_15176.jpg: 640x640 1 bottle, 389.7ms\n",
      "image 144/167 /content/Images/lobelia4cosmetics_15177.jpg: 640x640 (no detections), 598.2ms\n",
      "image 145/167 /content/Images/lobelia4cosmetics_15178.jpg: 640x640 (no detections), 576.8ms\n",
      "image 146/167 /content/Images/lobelia4cosmetics_15179.jpg: 640x640 (no detections), 598.9ms\n",
      "image 147/167 /content/Images/lobelia4cosmetics_15180.jpg: 640x640 (no detections), 629.2ms\n",
      "image 148/167 /content/Images/lobelia4cosmetics_15181.jpg: 640x640 2 apples, 2 oranges, 608.1ms\n",
      "image 149/167 /content/Images/lobelia4cosmetics_15182.jpg: 640x640 (no detections), 649.7ms\n",
      "image 150/167 /content/Images/lobelia4cosmetics_15183.jpg: 640x640 (no detections), 405.5ms\n",
      "image 151/167 /content/Images/lobelia4cosmetics_15184.jpg: 640x640 (no detections), 411.7ms\n",
      "image 152/167 /content/Images/lobelia4cosmetics_15185.jpg: 640x640 1 person, 1 book, 366.2ms\n",
      "image 153/167 /content/Images/lobelia4cosmetics_15186.jpg: 640x640 1 bottle, 396.8ms\n",
      "image 154/167 /content/Images/lobelia4cosmetics_15187.jpg: 640x640 (no detections), 393.8ms\n",
      "image 155/167 /content/Images/lobelia4cosmetics_15188.jpg: 640x640 1 cup, 417.1ms\n",
      "image 156/167 /content/Images/lobelia4cosmetics_15189.jpg: 640x640 (no detections), 472.1ms\n",
      "image 157/167 /content/Images/lobelia4cosmetics_15190.jpg: 640x640 (no detections), 420.3ms\n",
      "image 158/167 /content/Images/lobelia4cosmetics_15191.jpg: 512x640 (no detections), 308.9ms\n",
      "image 159/167 /content/Images/lobelia4cosmetics_15192.jpg: 640x640 1 person, 396.8ms\n",
      "image 160/167 /content/Images/lobelia4cosmetics_15193.jpg: 640x640 (no detections), 405.2ms\n",
      "image 161/167 /content/Images/lobelia4cosmetics_15194.jpg: 640x640 (no detections), 365.2ms\n",
      "image 162/167 /content/Images/lobelia4cosmetics_15195.jpg: 640x640 2 apples, 2 oranges, 389.8ms\n",
      "image 163/167 /content/Images/lobelia4cosmetics_15196.jpg: 640x640 (no detections), 413.3ms\n",
      "image 164/167 /content/Images/lobelia4cosmetics_15197.jpg: 640x640 (no detections), 397.1ms\n",
      "image 165/167 /content/Images/lobelia4cosmetics_15198.jpg: 640x640 1 bottle, 412.4ms\n",
      "image 166/167 /content/Images/lobelia4cosmetics_15199.jpg: 640x640 (no detections), 382.5ms\n",
      "image 167/167 /content/Images/lobelia4cosmetics_15200.jpg: 640x640 (no detections), 452.1ms\n",
      "Speed: 1.8ms pre-process, 422.9ms inference, 2.7ms NMS per image at shape (1, 3, 640, 640)\n",
      "Results saved to \u001b[1mruns/detect/exp3\u001b[0m\n",
      "82 labels saved to runs/detect/exp3/labels\n"
     ]
    }
   ],
   "source": [
    "#detect objects from images scraped from telegram\n",
    "!python detect.py --source ../Images --weights yolov5s.pt --conf 0.25 --save-txt --save-conf\n"
   ]
  },
  {
   "cell_type": "code",
   "execution_count": 14,
   "metadata": {
    "id": "IH8TqJM0i5so"
   },
   "outputs": [],
   "source": [
    "import logging\n",
    "import os\n",
    "\n",
    "# Create a logs directory if you want to store logs separately\n",
    "os.makedirs(\"logs\", exist_ok=True)\n",
    "\n",
    "logging.basicConfig(\n",
    "    level=logging.INFO,\n",
    "    format=\"%(asctime)s - %(levelname)s - %(message)s\",\n",
    "    handlers=[\n",
    "        logging.FileHandler(\"logs/detection_processing.log\"),  # write logs to a file\n",
    "        logging.StreamHandler()\n",
    "    ]\n",
    ")\n"
   ]
  },
  {
   "cell_type": "code",
   "execution_count": 26,
   "metadata": {
    "colab": {
     "base_uri": "https://localhost:8080/"
    },
    "id": "rROZQjTss18U",
    "outputId": "48d4132a-bf65-473e-e540-cc582365fd29"
   },
   "outputs": [
    {
     "name": "stdout",
     "output_type": "stream",
     "text": [
      "Parsed 250 total detections.\n"
     ]
    }
   ],
   "source": [
    "import os\n",
    "\n",
    "def parse_yolo_label_files(labels_dir):\n",
    "    \"\"\"\n",
    "    Parse all .txt files in 'labels_dir' and return\n",
    "    a list of detection dictionaries.\n",
    "    \"\"\"\n",
    "    detections = []\n",
    "\n",
    "\n",
    "    for filename in os.listdir(labels_dir):\n",
    "        if filename.endswith('.txt'):\n",
    "            image_name = os.path.splitext(filename)[0]  # e.g. \"image1\" from \"image1.txt\"\n",
    "            file_path = os.path.join(labels_dir, filename)\n",
    "\n",
    "            with open(file_path, 'r') as f:\n",
    "                lines = f.readlines()\n",
    "\n",
    "            for line in lines:\n",
    "                parts = line.strip().split()\n",
    "                if len(parts) < 6:\n",
    "                    # Not a valid YOLO line; skip or log a warning\n",
    "                    continue\n",
    "\n",
    "                class_id   = int(parts[0])\n",
    "                x_center   = float(parts[1])\n",
    "                y_center   = float(parts[2])\n",
    "                width      = float(parts[3])\n",
    "                height     = float(parts[4])\n",
    "                confidence = float(parts[5])\n",
    "\n",
    "                detection = {\n",
    "                    \"image_name\": image_name,\n",
    "                    \"class_id\": class_id,\n",
    "                    \"x_center\": x_center,\n",
    "                    \"y_center\": y_center,\n",
    "                    \"width\": width,\n",
    "                    \"height\": height,\n",
    "                    \"confidence\": confidence\n",
    "                }\n",
    "                detections.append(detection)\n",
    "\n",
    "    return detections\n",
    "\n",
    "# going into the directory\n",
    "labels_directory = \"runs/detect/exp3/labels\"\n",
    "all_detections = parse_yolo_label_files(labels_directory)\n",
    "print(f\"Parsed {len(all_detections)} total detections.\")\n"
   ]
  },
  {
   "cell_type": "code",
   "execution_count": 27,
   "metadata": {
    "colab": {
     "base_uri": "https://localhost:8080/"
    },
    "id": "C4l27qNTtw-8",
    "outputId": "56f748e9-d3c2-4856-dde9-4ca12767b634"
   },
   "outputs": [
    {
     "name": "stdout",
     "output_type": "stream",
     "text": [
      "Requirement already satisfied: pandas in /usr/local/lib/python3.11/dist-packages (2.2.2)\n",
      "Requirement already satisfied: numpy>=1.23.2 in /usr/local/lib/python3.11/dist-packages (from pandas) (1.26.4)\n",
      "Requirement already satisfied: python-dateutil>=2.8.2 in /usr/local/lib/python3.11/dist-packages (from pandas) (2.8.2)\n",
      "Requirement already satisfied: pytz>=2020.1 in /usr/local/lib/python3.11/dist-packages (from pandas) (2024.2)\n",
      "Requirement already satisfied: tzdata>=2022.7 in /usr/local/lib/python3.11/dist-packages (from pandas) (2025.1)\n",
      "Requirement already satisfied: six>=1.5 in /usr/local/lib/python3.11/dist-packages (from python-dateutil>=2.8.2->pandas) (1.17.0)\n"
     ]
    }
   ],
   "source": [
    "!pip install pandas\n",
    "import pandas as pd\n"
   ]
  },
  {
   "cell_type": "code",
   "execution_count": 28,
   "metadata": {
    "colab": {
     "base_uri": "https://localhost:8080/"
    },
    "id": "7Z4rNUtBuA3U",
    "outputId": "395d9f12-817d-40bc-9af1-615c4062e795"
   },
   "outputs": [
    {
     "name": "stdout",
     "output_type": "stream",
     "text": [
      "     image_name  class_id  x_center  y_center     width    height  confidence\n",
      "0  CheMed123_40         0  0.629583  0.607484  0.119167  0.437898    0.415015\n",
      "1  CheMed123_40         0  0.975000  0.641720  0.050000  0.700637    0.473599\n",
      "2  CheMed123_40         0  0.690833  0.601911  0.148333  0.452229    0.532881\n",
      "3  CheMed123_40         0  0.570417  0.605096  0.160833  0.449045    0.612891\n",
      "4  CheMed123_40         0  0.442917  0.597930  0.150833  0.453822    0.658300\n",
      "CSV file 'yolo_detections.csv' created with 250 rows.\n"
     ]
    }
   ],
   "source": [
    "# Convert the list of dictionaries to a Pandas DataFrame\n",
    "df = pd.DataFrame(all_detections)\n",
    "\n",
    "# Inspect the first few rows\n",
    "print(df.head())\n",
    "\n",
    "# Save to a CSV file\n",
    "output_csv = \"yolo_detections.csv\"\n",
    "df.to_csv(output_csv, index=False)\n",
    "print(f\"CSV file '{output_csv}' created with {len(df)} rows.\")\n"
   ]
  }
 ],
 "metadata": {
  "colab": {
   "provenance": []
  },
  "kernelspec": {
   "display_name": "Python 3 (ipykernel)",
   "language": "python",
   "name": "python3"
  },
  "language_info": {
   "codemirror_mode": {
    "name": "ipython",
    "version": 3
   },
   "file_extension": ".py",
   "mimetype": "text/x-python",
   "name": "python",
   "nbconvert_exporter": "python",
   "pygments_lexer": "ipython3",
   "version": "3.12.4"
  }
 },
 "nbformat": 4,
 "nbformat_minor": 4
}
