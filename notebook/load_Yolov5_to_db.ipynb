{
 "cells": [
  {
   "cell_type": "code",
   "execution_count": 1,
   "id": "2f43578c-1934-4928-a063-e643a49ec03b",
   "metadata": {},
   "outputs": [],
   "source": [
    "# Import modules\n",
    "import sys\n",
    "import os\n",
    "import pandas as pd"
   ]
  },
  {
   "cell_type": "code",
   "execution_count": 2,
   "id": "70c4f534-620d-49d6-b1d0-dd2cefd9b3da",
   "metadata": {},
   "outputs": [],
   "source": [
    "# Append the project root path to sys.path\n",
    "sys.path.append(os.path.abspath(\"..\"))"
   ]
  },
  {
   "cell_type": "code",
   "execution_count": 3,
   "id": "760875a3-2703-49a5-99d8-59b1c46e6d18",
   "metadata": {},
   "outputs": [],
   "source": [
    "# import the modules\n",
    "from scripts.Yolov5_to_db import get_db_connection, drop_table, create_table, insert_data"
   ]
  },
  {
   "cell_type": "code",
   "execution_count": 4,
   "id": "e68b8f7e-a57e-46b1-a7c1-c2093f9beb94",
   "metadata": {},
   "outputs": [
    {
     "name": "stderr",
     "output_type": "stream",
     "text": [
      "2025-02-04 12:05:54,091 - INFO - Successfully connected to the PostgreSQL database.\n"
     ]
    }
   ],
   "source": [
    "#establish the database connection\n",
    "engine = get_db_connection()"
   ]
  },
  {
   "cell_type": "code",
   "execution_count": 5,
   "id": "61dd3797-c0ed-4548-8783-5acdec6cf8af",
   "metadata": {},
   "outputs": [
    {
     "name": "stderr",
     "output_type": "stream",
     "text": [
      "2025-02-04 12:05:54,216 - INFO - Table 'detections' dropped successfully.\n"
     ]
    }
   ],
   "source": [
    "#drop table if it exist\n",
    "drop_table(engine)"
   ]
  },
  {
   "cell_type": "code",
   "execution_count": 6,
   "id": "211b43f6-eb11-4af8-ac76-d1ad4d558245",
   "metadata": {},
   "outputs": [
    {
     "name": "stderr",
     "output_type": "stream",
     "text": [
      "2025-02-04 12:06:13,911 - INFO -  Table 'detections' created successfully.\n"
     ]
    }
   ],
   "source": [
    "#create table\n",
    "create_table(engine)\n"
   ]
  },
  {
   "cell_type": "code",
   "execution_count": 8,
   "id": "fc301dee-1e95-43b8-8441-7fc30343f48a",
   "metadata": {},
   "outputs": [
    {
     "name": "stderr",
     "output_type": "stream",
     "text": [
      "2025-02-04 12:07:55,895 - INFO - Loading data from: ../data/yolo_detections.csv\n",
      "2025-02-04 12:07:55,895 - INFO - Dataframe shape: (250, 7)\n",
      "2025-02-04 12:07:56,208 - INFO -  250 records inserted into 'detections' table.\n"
     ]
    }
   ],
   "source": [
    "#insert the data from the correct path \n",
    "csv_path = \"../data/yolo_detections.csv\"  \n",
    "insert_data(engine, csv_path)"
   ]
  },
  {
   "cell_type": "code",
   "execution_count": 11,
   "id": "365ca188-b236-4a41-b118-f51c02701ed6",
   "metadata": {},
   "outputs": [
    {
     "data": {
      "text/html": [
       "<div>\n",
       "<style scoped>\n",
       "    .dataframe tbody tr th:only-of-type {\n",
       "        vertical-align: middle;\n",
       "    }\n",
       "\n",
       "    .dataframe tbody tr th {\n",
       "        vertical-align: top;\n",
       "    }\n",
       "\n",
       "    .dataframe thead th {\n",
       "        text-align: right;\n",
       "    }\n",
       "</style>\n",
       "<table border=\"1\" class=\"dataframe\">\n",
       "  <thead>\n",
       "    <tr style=\"text-align: right;\">\n",
       "      <th></th>\n",
       "      <th>id</th>\n",
       "      <th>image_name</th>\n",
       "      <th>class_id</th>\n",
       "      <th>x_center</th>\n",
       "      <th>y_center</th>\n",
       "      <th>width</th>\n",
       "      <th>height</th>\n",
       "      <th>confidence</th>\n",
       "    </tr>\n",
       "  </thead>\n",
       "  <tbody>\n",
       "    <tr>\n",
       "      <th>0</th>\n",
       "      <td>1</td>\n",
       "      <td>CheMed123_40</td>\n",
       "      <td>0</td>\n",
       "      <td>0.629583</td>\n",
       "      <td>0.607484</td>\n",
       "      <td>0.119167</td>\n",
       "      <td>0.437898</td>\n",
       "      <td>0.415015</td>\n",
       "    </tr>\n",
       "    <tr>\n",
       "      <th>1</th>\n",
       "      <td>2</td>\n",
       "      <td>CheMed123_40</td>\n",
       "      <td>0</td>\n",
       "      <td>0.975000</td>\n",
       "      <td>0.641720</td>\n",
       "      <td>0.050000</td>\n",
       "      <td>0.700637</td>\n",
       "      <td>0.473599</td>\n",
       "    </tr>\n",
       "    <tr>\n",
       "      <th>2</th>\n",
       "      <td>3</td>\n",
       "      <td>CheMed123_40</td>\n",
       "      <td>0</td>\n",
       "      <td>0.690833</td>\n",
       "      <td>0.601911</td>\n",
       "      <td>0.148333</td>\n",
       "      <td>0.452229</td>\n",
       "      <td>0.532881</td>\n",
       "    </tr>\n",
       "    <tr>\n",
       "      <th>3</th>\n",
       "      <td>4</td>\n",
       "      <td>CheMed123_40</td>\n",
       "      <td>0</td>\n",
       "      <td>0.570417</td>\n",
       "      <td>0.605096</td>\n",
       "      <td>0.160833</td>\n",
       "      <td>0.449045</td>\n",
       "      <td>0.612891</td>\n",
       "    </tr>\n",
       "    <tr>\n",
       "      <th>4</th>\n",
       "      <td>5</td>\n",
       "      <td>CheMed123_40</td>\n",
       "      <td>0</td>\n",
       "      <td>0.442917</td>\n",
       "      <td>0.597930</td>\n",
       "      <td>0.150833</td>\n",
       "      <td>0.453822</td>\n",
       "      <td>0.658300</td>\n",
       "    </tr>\n",
       "    <tr>\n",
       "      <th>5</th>\n",
       "      <td>6</td>\n",
       "      <td>CheMed123_40</td>\n",
       "      <td>0</td>\n",
       "      <td>0.343333</td>\n",
       "      <td>0.640127</td>\n",
       "      <td>0.191667</td>\n",
       "      <td>0.382166</td>\n",
       "      <td>0.691099</td>\n",
       "    </tr>\n",
       "    <tr>\n",
       "      <th>6</th>\n",
       "      <td>7</td>\n",
       "      <td>CheMed123_40</td>\n",
       "      <td>0</td>\n",
       "      <td>0.212917</td>\n",
       "      <td>0.585191</td>\n",
       "      <td>0.120833</td>\n",
       "      <td>0.335987</td>\n",
       "      <td>0.712878</td>\n",
       "    </tr>\n",
       "    <tr>\n",
       "      <th>7</th>\n",
       "      <td>8</td>\n",
       "      <td>lobelia4cosmetics_15152</td>\n",
       "      <td>39</td>\n",
       "      <td>0.299375</td>\n",
       "      <td>0.555625</td>\n",
       "      <td>0.238750</td>\n",
       "      <td>0.836250</td>\n",
       "      <td>0.295853</td>\n",
       "    </tr>\n",
       "    <tr>\n",
       "      <th>8</th>\n",
       "      <td>9</td>\n",
       "      <td>lobelia4cosmetics_15152</td>\n",
       "      <td>39</td>\n",
       "      <td>0.770625</td>\n",
       "      <td>0.586250</td>\n",
       "      <td>0.091250</td>\n",
       "      <td>0.542500</td>\n",
       "      <td>0.355243</td>\n",
       "    </tr>\n",
       "    <tr>\n",
       "      <th>9</th>\n",
       "      <td>10</td>\n",
       "      <td>CheMed123_20</td>\n",
       "      <td>73</td>\n",
       "      <td>0.666797</td>\n",
       "      <td>0.885938</td>\n",
       "      <td>0.191406</td>\n",
       "      <td>0.209375</td>\n",
       "      <td>0.271121</td>\n",
       "    </tr>\n",
       "  </tbody>\n",
       "</table>\n",
       "</div>"
      ],
      "text/plain": [
       "   id               image_name  class_id  x_center  y_center     width  \\\n",
       "0   1             CheMed123_40         0  0.629583  0.607484  0.119167   \n",
       "1   2             CheMed123_40         0  0.975000  0.641720  0.050000   \n",
       "2   3             CheMed123_40         0  0.690833  0.601911  0.148333   \n",
       "3   4             CheMed123_40         0  0.570417  0.605096  0.160833   \n",
       "4   5             CheMed123_40         0  0.442917  0.597930  0.150833   \n",
       "5   6             CheMed123_40         0  0.343333  0.640127  0.191667   \n",
       "6   7             CheMed123_40         0  0.212917  0.585191  0.120833   \n",
       "7   8  lobelia4cosmetics_15152        39  0.299375  0.555625  0.238750   \n",
       "8   9  lobelia4cosmetics_15152        39  0.770625  0.586250  0.091250   \n",
       "9  10             CheMed123_20        73  0.666797  0.885938  0.191406   \n",
       "\n",
       "     height  confidence  \n",
       "0  0.437898    0.415015  \n",
       "1  0.700637    0.473599  \n",
       "2  0.452229    0.532881  \n",
       "3  0.449045    0.612891  \n",
       "4  0.453822    0.658300  \n",
       "5  0.382166    0.691099  \n",
       "6  0.335987    0.712878  \n",
       "7  0.836250    0.295853  \n",
       "8  0.542500    0.355243  \n",
       "9  0.209375    0.271121  "
      ]
     },
     "metadata": {},
     "output_type": "display_data"
    }
   ],
   "source": [
    "#verify the insertion of data\n",
    "df = pd.read_sql(\"SELECT * FROM detections\", con=engine)\n",
    "display(df.head(10)) "
   ]
  },
  {
   "cell_type": "code",
   "execution_count": null,
   "id": "4f8de29a-8e08-4407-923b-10e2150db5c9",
   "metadata": {},
   "outputs": [],
   "source": []
  }
 ],
 "metadata": {
  "kernelspec": {
   "display_name": "Python (venv)",
   "language": "python",
   "name": "venv"
  },
  "language_info": {
   "codemirror_mode": {
    "name": "ipython",
    "version": 3
   },
   "file_extension": ".py",
   "mimetype": "text/x-python",
   "name": "python",
   "nbconvert_exporter": "python",
   "pygments_lexer": "ipython3",
   "version": "3.12.4"
  }
 },
 "nbformat": 4,
 "nbformat_minor": 5
}
